{
 "cells": [
  {
   "attachments": {},
   "cell_type": "markdown",
   "id": "64470bd2",
   "metadata": {},
   "source": [
    "# Milestone 1"
   ]
  },
  {
   "cell_type": "code",
   "execution_count": 1,
   "id": "d382c00e-5c98-4b60-a413-d7582ae1533c",
   "metadata": {},
   "outputs": [],
   "source": [
    "import re\n",
    "import os\n",
    "import glob\n",
    "import zipfile\n",
    "import requests\n",
    "from urllib.request import urlretrieve\n",
    "import json\n",
    "import pandas as pd"
   ]
  },
  {
   "attachments": {},
   "cell_type": "markdown",
   "id": "0191a1ae",
   "metadata": {},
   "source": [
    "## Download data and unzip the file"
   ]
  },
  {
   "cell_type": "code",
   "execution_count": 2,
   "id": "588531e0-96d5-4fb0-a1a9-9b1d74c3ce2a",
   "metadata": {},
   "outputs": [],
   "source": [
    "# Referenced the below code from lecture notes \n",
    "\n",
    "article_id = 14096681 \n",
    "url = f\"https://api.figshare.com/v2/articles/{article_id}\"\n",
    "headers = {\"Content-Type\": \"application/json\"}\n",
    "output_directory = os.path.join(os.path.pardir, \"data/rainfall/\")"
   ]
  },
  {
   "cell_type": "code",
   "execution_count": 3,
   "id": "aed3ecd5-fa46-4a3c-b9e8-0565194267bd",
   "metadata": {},
   "outputs": [],
   "source": [
    "response = requests.request(\"GET\", url, headers=headers)\n",
    "data = json.loads(response.text)  \n",
    "files = data[\"files\"]            \n",
    "files_to_dl = [\"data.zip\"]\n",
    "for file in files:\n",
    "    if file[\"name\"] in files_to_dl:\n",
    "        os.makedirs(output_directory, exist_ok=True)\n",
    "        urlretrieve(file[\"download_url\"], output_directory + file[\"name\"])\n",
    "\n",
    "with zipfile.ZipFile(os.path.join(output_directory, \"data.zip\"), 'r') as f:\n",
    "    f.extractall(output_directory)"
   ]
  },
  {
   "attachments": {},
   "cell_type": "markdown",
   "id": "339101b5",
   "metadata": {},
   "source": [
    "## Combine CSVs into 1 (written to data/combined_data.csv)"
   ]
  },
  {
   "cell_type": "code",
   "execution_count": 49,
   "id": "de3e0669-ac3c-49cd-bb40-21e13cb84fbb",
   "metadata": {},
   "outputs": [
    {
     "name": "stdout",
     "output_type": "stream",
     "text": [
      "CPU times: total: 5min 46s\n",
      "Wall time: 5min 47s\n"
     ]
    }
   ],
   "source": [
    "%%time\n",
    "files = glob.glob(os.path.join(os.path.pardir, \"data/rainfall/*.csv\"))\n",
    "files.remove(os.path.join(os.path.pardir, \"data/rainfall\", \"observed_daily_rainfall_SYD.csv\"))\n",
    "\n",
    "df = pd.concat((\n",
    "  pd.read_csv(file, index_col=0)\n",
    "  .assign(model=re.findall(\"([^_]*)\", os.path.basename(file))[0])\n",
    "  for file in files))\n",
    "df.to_csv(os.path.join(os.path.pardir, \"data/combined_data.csv\"))"
   ]
  },
  {
   "cell_type": "markdown",
   "id": "1899637a",
   "metadata": {},
   "source": [
    "## EDA using pandas"
   ]
  },
  {
   "attachments": {},
   "cell_type": "markdown",
   "id": "286e8270",
   "metadata": {},
   "source": [
    "Saving memory usage: Using only certain columns (time, model, rain) and cast rain to float32"
   ]
  },
  {
   "cell_type": "code",
   "execution_count": 50,
   "id": "9f4ae60b-3d50-4afb-9c1d-926e8ea3e708",
   "metadata": {},
   "outputs": [
    {
     "name": "stdout",
     "output_type": "stream",
     "text": [
      "CPU times: total: 44.1 s\n",
      "Wall time: 44.9 s\n"
     ]
    },
    {
     "data": {
      "text/plain": [
       "MPI-ESM1-2-HR       5154240\n",
       "TaiESM1             3541230\n",
       "NorESM2-MM          3541230\n",
       "CMCC-CM2-HR4        3541230\n",
       "CMCC-CM2-SR5        3541230\n",
       "CMCC-ESM2           3541230\n",
       "SAM0-UNICON         3541153\n",
       "FGOALS-f3-L         3219300\n",
       "GFDL-CM4            3219300\n",
       "GFDL-ESM4           3219300\n",
       "EC-Earth3-Veg-LR    3037320\n",
       "MRI-ESM2-0          3037320\n",
       "BCC-CSM2-MR         3035340\n",
       "MIROC6              2070900\n",
       "ACCESS-CM2          1932840\n",
       "ACCESS-ESM1-5       1610700\n",
       "INM-CM5-0           1609650\n",
       "INM-CM4-8           1609650\n",
       "KIOST-ESM           1287720\n",
       "FGOALS-g3           1287720\n",
       "MPI-ESM1-2-LR        966420\n",
       "NESM3                966420\n",
       "AWI-ESM-1-1-LR       966420\n",
       "MPI-ESM-1-2-HAM      966420\n",
       "NorESM2-LM           919800\n",
       "BCC-ESM1             551880\n",
       "CanESM5              551880\n",
       "Name: model, dtype: int64"
      ]
     },
     "execution_count": 50,
     "metadata": {},
     "output_type": "execute_result"
    }
   ],
   "source": [
    "%%time\n",
    "use_cols = ['time', 'rain (mm/day)', 'model']\n",
    "df = pd.read_csv(os.path.join(os.path.pardir, \"data/combined_data.csv\"), \n",
    "    usecols = use_cols)\n",
    "df['rain (mm/day)'] = df['rain (mm/day)'].astype('float32', errors='ignore')\n",
    "df['model'].value_counts()"
   ]
  },
  {
   "attachments": {},
   "cell_type": "markdown",
   "id": "deba14c3",
   "metadata": {},
   "source": [
    "| Team Member | Operating System | RAM          | Processor             | Is SSD | CPU time   | Wall time  |\n",
    "|:-----------:|:----------------:|:------------:|:---------------------:|:------:|:----------:|:----------:|\n",
    "| Rev         |MacOS             |8GB 3733MHz   |Intel i3 1.1GHz        |Yes     |6m56s       |7m47s       |\n",
    "| Caroline    |Windows 10        |16GB 3200MHz  |Intel i7-11800H 2.3GHz |Yes     |5m47s       |5m49s       |\n",
    "| Sneha       |Windows 11        |16GB 4800MHz  |Intel i7-12700H 2.3GHz |Yes     |5m20s       |5m39s       |\n",
    "| Renzo       |Windows 10        |8GB 2400MHz   |Intel i5-7300HQ 2.5GHz |Yes     |12m8s       |13m52s      |"
   ]
  },
  {
   "cell_type": "code",
   "execution_count": null,
   "id": "d061a3b9-dd8b-4964-9e34-2ee82d3a5da2",
   "metadata": {},
   "outputs": [],
   "source": []
  }
 ],
 "metadata": {
  "kernelspec": {
   "display_name": "Python 3 (ipykernel)",
   "language": "python",
   "name": "python3"
  },
  "language_info": {
   "codemirror_mode": {
    "name": "ipython",
    "version": 3
   },
   "file_extension": ".py",
   "mimetype": "text/x-python",
   "name": "python",
   "nbconvert_exporter": "python",
   "pygments_lexer": "ipython3",
   "version": "3.10.10"
  }
 },
 "nbformat": 4,
 "nbformat_minor": 5
}
