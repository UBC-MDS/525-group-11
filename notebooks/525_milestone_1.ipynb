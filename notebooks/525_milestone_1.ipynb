{
 "cells": [
  {
   "attachments": {},
   "cell_type": "markdown",
   "id": "64470bd2",
   "metadata": {},
   "source": [
    "# Milestone 1"
   ]
  },
  {
   "cell_type": "code",
   "execution_count": 11,
   "id": "d382c00e-5c98-4b60-a413-d7582ae1533c",
   "metadata": {},
   "outputs": [],
   "source": [
    "import re\n",
    "import os\n",
    "import glob\n",
    "import zipfile\n",
    "import requests\n",
    "from urllib.request import urlretrieve\n",
    "import json\n",
    "import pandas as pd"
   ]
  },
  {
   "attachments": {},
   "cell_type": "markdown",
   "id": "0191a1ae",
   "metadata": {},
   "source": [
    "## Download data and unzip the file"
   ]
  },
  {
   "cell_type": "code",
   "execution_count": 9,
   "id": "588531e0-96d5-4fb0-a1a9-9b1d74c3ce2a",
   "metadata": {},
   "outputs": [],
   "source": [
    "# Referenced the below code from lecture notes \n",
    "\n",
    "article_id = 14096681 \n",
    "url = f\"https://api.figshare.com/v2/articles/{article_id}\"\n",
    "headers = {\"Content-Type\": \"application/json\"}\n",
    "output_directory = os.path.join(os.path.pardir, \"data/rainfall/\")"
   ]
  },
  {
   "cell_type": "code",
   "execution_count": 10,
   "id": "aed3ecd5-fa46-4a3c-b9e8-0565194267bd",
   "metadata": {},
   "outputs": [],
   "source": [
    "response = requests.request(\"GET\", url, headers=headers)\n",
    "data = json.loads(response.text)  \n",
    "files = data[\"files\"]            \n",
    "files_to_dl = [\"data.zip\"]\n",
    "for file in files:\n",
    "    if file[\"name\"] in files_to_dl:\n",
    "        os.makedirs(output_directory, exist_ok=True)\n",
    "        urlretrieve(file[\"download_url\"], output_directory + file[\"name\"])\n",
    "\n",
    "with zipfile.ZipFile(os.path.join(output_directory, \"data.zip\"), 'r') as f:\n",
    "    f.extractall(output_directory)"
   ]
  },
  {
   "attachments": {},
   "cell_type": "markdown",
   "id": "339101b5",
   "metadata": {},
   "source": [
    "## Combine CSVs into 1 (written to data/combined_data.csv)"
   ]
  },
  {
   "cell_type": "code",
   "execution_count": 19,
   "id": "de3e0669-ac3c-49cd-bb40-21e13cb84fbb",
   "metadata": {},
   "outputs": [
    {
     "name": "stdout",
     "output_type": "stream",
     "text": [
      "CPU times: total: 5min 13s\n",
      "Wall time: 5min 39s\n"
     ]
    }
   ],
   "source": [
    "%%time\n",
    "files = glob.glob(os.path.join(os.path.pardir, \"data/rainfall/*.csv\"))\n",
    "df = pd.concat((\n",
    "  pd.read_csv(file, index_col=0)\n",
    "  .assign(model=re.findall(\"/([^_]*)\", file)[0])\n",
    "  for file in files \n",
    "  if file != os.path.join(os.path.pardir, \"data/rainfall/observed_daily_rainfall_SYD.csv\")))\n",
    "df.to_csv(os.path.join(os.path.pardir, \"data/combined_data.csv\"))"
   ]
  },
  {
   "cell_type": "markdown",
   "id": "1899637a",
   "metadata": {},
   "source": [
    "## EDA using pandas"
   ]
  },
  {
   "cell_type": "markdown",
   "id": "286e8270",
   "metadata": {},
   "source": []
  },
  {
   "cell_type": "code",
   "execution_count": 25,
   "id": "9f4ae60b-3d50-4afb-9c1d-926e8ea3e708",
   "metadata": {},
   "outputs": [
    {
     "name": "stdout",
     "output_type": "stream",
     "text": [
      "CPU times: total: 0 ns\n",
      "Wall time: 6 ms\n"
     ]
    },
    {
     "data": {
      "text/plain": [
       "dtype('float64')"
      ]
     },
     "execution_count": 25,
     "metadata": {},
     "output_type": "execute_result"
    }
   ],
   "source": [
    "%%time\n",
    "df = pd.read_csv(os.path.join(os.path.pardir, \"data/combined_data.csv\"), nrows=10)"
   ]
  },
  {
   "cell_type": "code",
   "execution_count": null,
   "id": "d061a3b9-dd8b-4964-9e34-2ee82d3a5da2",
   "metadata": {},
   "outputs": [],
   "source": []
  }
 ],
 "metadata": {
  "kernelspec": {
   "display_name": "Python 3 (ipykernel)",
   "language": "python",
   "name": "python3"
  },
  "language_info": {
   "codemirror_mode": {
    "name": "ipython",
    "version": 3
   },
   "file_extension": ".py",
   "mimetype": "text/x-python",
   "name": "python",
   "nbconvert_exporter": "python",
   "pygments_lexer": "ipython3",
   "version": "3.10.10"
  }
 },
 "nbformat": 4,
 "nbformat_minor": 5
}
